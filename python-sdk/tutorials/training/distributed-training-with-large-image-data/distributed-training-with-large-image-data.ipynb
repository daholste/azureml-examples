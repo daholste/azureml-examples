{
 "cells": [
  {
   "cell_type": "markdown",
   "id": "733a17f0",
   "metadata": {},
   "source": [
    "Copyright (c) Microsoft Corporation. All rights reserved.\n",
    "\n",
    "Licensed under the MIT License.\n",
    "\n",
    "\n",
    "# Distributed Training with a Large Image Dataset"
   ]
  },
  {
   "cell_type": "markdown",
   "id": "013bc5b9",
   "metadata": {},
   "source": [
    "_**Pointers for Optimizing Performance**_\n",
    "\n"
   ]
  },
  {
   "cell_type": "markdown",
   "id": "64715df7",
   "metadata": {},
   "source": [
    "## Contents\n",
    "1. [Introduction](#Introduction)\n",
    "1. [Setup](#Setup)\n",
    "1. [Data Preparation](#Data-Preparation)\n",
    "1. [Bootstrapping Distributed Training](#Bootstrapping-Distributed-Training)\n",
    "1. [Linear Scaling](#Linear-Scaling)\n",
    "1. [Low-Priority Compute](#Low-Priority-Compute)\n",
    "1. [Data Larger Than Disk](#Data-Larger-Than-Disk)\n",
    "1. [Additional Pointers](#Additional-Pointers)"
   ]
  },
  {
   "cell_type": "markdown",
   "id": "0a4f5ac2",
   "metadata": {},
   "source": [
    "## Introduction"
   ]
  },
  {
   "cell_type": "markdown",
   "id": "fd582eda",
   "metadata": {},
   "source": [
    "This notebook shows how to do distributed training on a large image dataset. Models are trained on all the images in the [MS COCO (Microsoft Common Objects in Context)](https://cocodataset.org/#home) dataset.\n",
    "\n",
    "When training on larger data, there are some challenges that you may face. This notebooks aims to explore and discuss these challenges, as well give you some tips and tricks for working with larger data."
   ]
  },
  {
   "cell_type": "markdown",
   "id": "aab66c9f",
   "metadata": {},
   "source": [
    "## Setup"
   ]
  },
  {
   "cell_type": "markdown",
   "id": "fc9ff8bd",
   "metadata": {},
   "source": [
    "Let's import some dependencies we'll need:"
   ]
  },
  {
   "cell_type": "code",
   "execution_count": null,
   "id": "00e2276b",
   "metadata": {},
   "outputs": [],
   "source": [
    "import os\n",
    "import tempfile\n",
    "\n",
    "import matplotlib.pyplot as plt\n",
    "import pandas as pd\n",
    "from azureml.core import Dataset, Experiment, Workspace\n",
    "from helper import create_compute_cluster, download_and_unzip_file, \\\n",
    "    get_az_storage_cli_auth_param, register_jsonl_dataset_from_coco_metadata\n",
    "from launch_run import launch_run"
   ]
  },
  {
   "cell_type": "markdown",
   "id": "2bd8c8a9",
   "metadata": {},
   "source": [
    "Let's initialize the workspace, experiment, and datastore.\n",
    "\n",
    "Make sure you have the run [configuration notebook](https://github.com/Azure/azureml-examples/blob/main/python-sdk/experimental/automl-model-testing/configuration.ipynb) to create a workspace and save its corresponding config file before running this notebook."
   ]
  },
  {
   "cell_type": "code",
   "execution_count": 2,
   "id": "7845b42a",
   "metadata": {},
   "outputs": [
    {
     "data": {
      "text/html": [
       "<div>\n",
       "<style scoped>\n",
       "    .dataframe tbody tr th:only-of-type {\n",
       "        vertical-align: middle;\n",
       "    }\n",
       "\n",
       "    .dataframe tbody tr th {\n",
       "        vertical-align: top;\n",
       "    }\n",
       "\n",
       "    .dataframe thead th {\n",
       "        text-align: right;\n",
       "    }\n",
       "</style>\n",
       "<table border=\"1\" class=\"dataframe\">\n",
       "  <thead>\n",
       "    <tr style=\"text-align: right;\">\n",
       "      <th></th>\n",
       "      <th></th>\n",
       "    </tr>\n",
       "  </thead>\n",
       "  <tbody>\n",
       "    <tr>\n",
       "      <th>Subscription ID</th>\n",
       "      <td>381b38e9-9840-4719-a5a0-61d9585e1e91</td>\n",
       "    </tr>\n",
       "    <tr>\n",
       "      <th>Workspace</th>\n",
       "      <td>daholstewseus</td>\n",
       "    </tr>\n",
       "    <tr>\n",
       "      <th>Resource Group</th>\n",
       "      <td>daholsterg</td>\n",
       "    </tr>\n",
       "    <tr>\n",
       "      <th>Location</th>\n",
       "      <td>eastus</td>\n",
       "    </tr>\n",
       "    <tr>\n",
       "      <th>Experiment Name</th>\n",
       "      <td>mscoco-distributed-training</td>\n",
       "    </tr>\n",
       "  </tbody>\n",
       "</table>\n",
       "</div>"
      ],
      "text/plain": [
       "                                                     \n",
       "Subscription ID  381b38e9-9840-4719-a5a0-61d9585e1e91\n",
       "Workspace        daholstewseus                       \n",
       "Resource Group   daholsterg                          \n",
       "Location         eastus                              \n",
       "Experiment Name  mscoco-distributed-training         "
      ]
     },
     "execution_count": 2,
     "metadata": {},
     "output_type": "execute_result"
    }
   ],
   "source": [
    "# initialize the workspace\n",
    "workspace = Workspace.from_config()\n",
    "\n",
    "# choose a name for experiment\n",
    "experiment_name = \"mscoco-distributed-training\"\n",
    "\n",
    "# initialize the experiment\n",
    "experiment = Experiment(workspace, experiment_name)\n",
    "\n",
    "# get a reference to the default datastore\n",
    "datastore = workspace.get_default_datastore()\n",
    "\n",
    "output = {}\n",
    "output[\"Subscription ID\"] = workspace.subscription_id\n",
    "output[\"Workspace\"] = workspace.name\n",
    "output[\"Resource Group\"] = workspace.resource_group\n",
    "output[\"Location\"] = workspace.location\n",
    "output[\"Experiment Name\"] = experiment.name\n",
    "pd.set_option(\"display.max_colwidth\", -1)\n",
    "outputDf = pd.DataFrame(data=output, index=[\"\"])\n",
    "outputDf.T"
   ]
  },
  {
   "cell_type": "markdown",
   "id": "87d19694",
   "metadata": {},
   "source": [
    "## Data Preparation"
   ]
  },
  {
   "cell_type": "markdown",
   "id": "62de861c",
   "metadata": {},
   "source": [
    "### MS COCO Dataset"
   ]
  },
  {
   "cell_type": "markdown",
   "id": "50a69071",
   "metadata": {},
   "source": [
    "We'll train models on the [MS COCO (Microsoft Common Objects in Context)](https://cocodataset.org/#home) dataset, one of the largest publicly available image datasets.\n",
    "\n",
    "We'll build a simple classification model to detect whether or not an image includes any people. Overall, the training set has ~ 118k images. Of these, ~ 64k (54%) contain at least one person, and ~ 54k (46%) contain no people.\n",
    "\n",
    "We need to prepare the data to use in our experiments. In this section, we will:\n",
    "1. Download the MS COCO images and metadata.\n",
    "1. Upload the images to the workspace's default datastore.\n",
    "1. Parse the metadata to produce a JSONL dataset containing the name of each image and whether or not that image contains >= 1 person."
   ]
  },
  {
   "cell_type": "markdown",
   "id": "70449b73",
   "metadata": {},
   "source": [
    "Download and unzip the images and metadata:"
   ]
  },
  {
   "cell_type": "code",
   "execution_count": 3,
   "id": "a3e26d44",
   "metadata": {},
   "outputs": [],
   "source": [
    "# Set the destination directory where the ZIP files should be downloaded and extracted.\n",
    "# Note: the artifacts are just under 40 GB in size.\n",
    "destination_directory = tempfile.gettempdir()\n",
    "\n",
    "download_and_unzip_file('http://images.cocodataset.org/annotations/annotations_trainval2017.zip', destination_directory)\n",
    "download_and_unzip_file('http://images.cocodataset.org/zips/val2017.zip', destination_directory)\n",
    "download_and_unzip_file('http://images.cocodataset.org/zips/train2017.zip', destination_directory)"
   ]
  },
  {
   "cell_type": "markdown",
   "id": "0a924602",
   "metadata": {},
   "source": [
    "Next, we need to upload the files to the workspace."
   ]
  },
  {
   "cell_type": "markdown",
   "id": "35439861",
   "metadata": {},
   "source": [
    "Upload the images in the validation set:"
   ]
  },
  {
   "cell_type": "code",
   "execution_count": null,
   "id": "4fa8c9da",
   "metadata": {},
   "outputs": [],
   "source": [
    "!az storage fs directory upload --source {os.path.join(destination_directory, 'val2017')} -f {datastore.container_name} --account-name {datastore.account_name} {get_az_storage_cli_auth_param(datastore)} -d /coco/ --recursive"
   ]
  },
  {
   "cell_type": "markdown",
   "id": "9c72a5d2",
   "metadata": {},
   "source": [
    "Upload the images in the training set:"
   ]
  },
  {
   "cell_type": "code",
   "execution_count": null,
   "id": "2b053ccb",
   "metadata": {},
   "outputs": [],
   "source": [
    "!az storage fs directory upload --source {os.path.join(destination_directory, 'train2017')} -f {datastore.container_name} --account-name {datastore.account_name} {get_az_storage_cli_auth_param(datastore)} -d /coco/ --recursive"
   ]
  },
  {
   "cell_type": "markdown",
   "id": "b8b6df51",
   "metadata": {},
   "source": [
    "Parse the MS COCO metadata artifacts to produce and register Azure Datasets for the training and validation data:"
   ]
  },
  {
   "cell_type": "code",
   "execution_count": 6,
   "id": "59ca5e0a",
   "metadata": {},
   "outputs": [],
   "source": [
    "register_jsonl_dataset_from_coco_metadata(\n",
    "    workspace=workspace,\n",
    "    coco_metadata_file_path=os.path.join(destination_directory, 'annotations', 'instances_val2017.json'),\n",
    "    output_jsonl_file_path=os.path.join(destination_directory, 'coco_valid_jsonl', 'coco_valid.jsonl'),\n",
    "    dataset_name='coco_valid',\n",
    "    dataset_path_in_datastore='coco/val2017')\n",
    "\n",
    "register_jsonl_dataset_from_coco_metadata(\n",
    "    workspace=workspace,\n",
    "    coco_metadata_file_path=os.path.join(destination_directory, 'annotations', 'instances_train2017.json'),\n",
    "    output_jsonl_file_path=os.path.join(destination_directory, 'coco_train_jsonl', 'coco_train.jsonl'),\n",
    "    dataset_name='coco_train',\n",
    "    dataset_path_in_datastore='coco/train2017')"
   ]
  },
  {
   "cell_type": "markdown",
   "id": "bf5761db",
   "metadata": {},
   "source": [
    "We now have two datasets registered in the workspace, `coco_valid` and `coco_train`:"
   ]
  },
  {
   "cell_type": "code",
   "execution_count": 7,
   "id": "33f6d9e9",
   "metadata": {},
   "outputs": [
    {
     "data": {
      "text/html": [
       "<div>\n",
       "<style scoped>\n",
       "    .dataframe tbody tr th:only-of-type {\n",
       "        vertical-align: middle;\n",
       "    }\n",
       "\n",
       "    .dataframe tbody tr th {\n",
       "        vertical-align: top;\n",
       "    }\n",
       "\n",
       "    .dataframe thead th {\n",
       "        text-align: right;\n",
       "    }\n",
       "</style>\n",
       "<table border=\"1\" class=\"dataframe\">\n",
       "  <thead>\n",
       "    <tr style=\"text-align: right;\">\n",
       "      <th></th>\n",
       "      <th>image_url</th>\n",
       "      <th>contains_person</th>\n",
       "    </tr>\n",
       "  </thead>\n",
       "  <tbody>\n",
       "    <tr>\n",
       "      <th>0</th>\n",
       "      <td>workspaceblobstore/coco/valid/000000397133.jpg</td>\n",
       "      <td>True</td>\n",
       "    </tr>\n",
       "    <tr>\n",
       "      <th>1</th>\n",
       "      <td>workspaceblobstore/coco/valid/000000037777.jpg</td>\n",
       "      <td>False</td>\n",
       "    </tr>\n",
       "    <tr>\n",
       "      <th>2</th>\n",
       "      <td>workspaceblobstore/coco/valid/000000252219.jpg</td>\n",
       "      <td>True</td>\n",
       "    </tr>\n",
       "    <tr>\n",
       "      <th>3</th>\n",
       "      <td>workspaceblobstore/coco/valid/000000087038.jpg</td>\n",
       "      <td>True</td>\n",
       "    </tr>\n",
       "    <tr>\n",
       "      <th>4</th>\n",
       "      <td>workspaceblobstore/coco/valid/000000174482.jpg</td>\n",
       "      <td>False</td>\n",
       "    </tr>\n",
       "  </tbody>\n",
       "</table>\n",
       "</div>"
      ],
      "text/plain": [
       "                                        image_url  contains_person\n",
       "0  workspaceblobstore/coco/valid/000000397133.jpg  True           \n",
       "1  workspaceblobstore/coco/valid/000000037777.jpg  False          \n",
       "2  workspaceblobstore/coco/valid/000000252219.jpg  True           \n",
       "3  workspaceblobstore/coco/valid/000000087038.jpg  True           \n",
       "4  workspaceblobstore/coco/valid/000000174482.jpg  False          "
      ]
     },
     "execution_count": 7,
     "metadata": {},
     "output_type": "execute_result"
    }
   ],
   "source": [
    "Dataset.get_by_name(workspace, 'coco_valid').take(5).to_pandas_dataframe()"
   ]
  },
  {
   "cell_type": "code",
   "execution_count": 8,
   "id": "527ad07f",
   "metadata": {},
   "outputs": [
    {
     "data": {
      "text/html": [
       "<div>\n",
       "<style scoped>\n",
       "    .dataframe tbody tr th:only-of-type {\n",
       "        vertical-align: middle;\n",
       "    }\n",
       "\n",
       "    .dataframe tbody tr th {\n",
       "        vertical-align: top;\n",
       "    }\n",
       "\n",
       "    .dataframe thead th {\n",
       "        text-align: right;\n",
       "    }\n",
       "</style>\n",
       "<table border=\"1\" class=\"dataframe\">\n",
       "  <thead>\n",
       "    <tr style=\"text-align: right;\">\n",
       "      <th></th>\n",
       "      <th>image_url</th>\n",
       "      <th>contains_person</th>\n",
       "    </tr>\n",
       "  </thead>\n",
       "  <tbody>\n",
       "    <tr>\n",
       "      <th>0</th>\n",
       "      <td>workspaceblobstore/coco/train/000000391895.jpg</td>\n",
       "      <td>True</td>\n",
       "    </tr>\n",
       "    <tr>\n",
       "      <th>1</th>\n",
       "      <td>workspaceblobstore/coco/train/000000522418.jpg</td>\n",
       "      <td>True</td>\n",
       "    </tr>\n",
       "    <tr>\n",
       "      <th>2</th>\n",
       "      <td>workspaceblobstore/coco/train/000000184613.jpg</td>\n",
       "      <td>True</td>\n",
       "    </tr>\n",
       "    <tr>\n",
       "      <th>3</th>\n",
       "      <td>workspaceblobstore/coco/train/000000318219.jpg</td>\n",
       "      <td>True</td>\n",
       "    </tr>\n",
       "    <tr>\n",
       "      <th>4</th>\n",
       "      <td>workspaceblobstore/coco/train/000000554625.jpg</td>\n",
       "      <td>True</td>\n",
       "    </tr>\n",
       "  </tbody>\n",
       "</table>\n",
       "</div>"
      ],
      "text/plain": [
       "                                        image_url  contains_person\n",
       "0  workspaceblobstore/coco/train/000000391895.jpg  True           \n",
       "1  workspaceblobstore/coco/train/000000522418.jpg  True           \n",
       "2  workspaceblobstore/coco/train/000000184613.jpg  True           \n",
       "3  workspaceblobstore/coco/train/000000318219.jpg  True           \n",
       "4  workspaceblobstore/coco/train/000000554625.jpg  True           "
      ]
     },
     "execution_count": 8,
     "metadata": {},
     "output_type": "execute_result"
    }
   ],
   "source": [
    "Dataset.get_by_name(workspace, 'coco_train').take(5).to_pandas_dataframe()"
   ]
  },
  {
   "cell_type": "markdown",
   "id": "adafc227",
   "metadata": {},
   "source": [
    "## Linear Scaling"
   ]
  },
  {
   "cell_type": "markdown",
   "id": "0d585fa7",
   "metadata": {},
   "source": [
    "Ideally, as the number of VMs training a given model increases, the time to train that model should decrease linearly. For instance, if training a model using one VM takes 100 seconds, then training that same model using two VMs should ideally take 50 seconds. Using four VMs should ideally take 25 seconds, and so on. Also ideally, model quality / accuracy should not be affected by the number of VMs used."
   ]
  },
  {
   "cell_type": "markdown",
   "id": "c21dad7c",
   "metadata": {},
   "source": [
    "#### InfiniBand"
   ]
  },
  {
   "cell_type": "markdown",
   "id": "20b91b8b",
   "metadata": {},
   "source": [
    "To attain linear scaling, one important step can be to use InfiniBand. InfiniBand enables low-latency, GPU-to-GPU communication across nodes in a cluster. InfiniBand requires specialized hardware to operate. Only some VM SKUs on Azure contain this required hardware. Typically, the VM SKUs containing an 'R' in their name have the required InfiniBand hardware, versus those without the 'R' do not. ('R' is a reference to RDMA, which stands for \"remote direct memory access.\")\n",
    "\n",
    "You can view the full list of InfiniBand-enabled machine SKUs [here](https://docs.microsoft.com/en-us/azure/virtual-machines/sizes-hpc#rdma-capable-instances). On that page, for instance, you'll see the VM SKU `STANDARD_NC24S_V3` is not InfiniBand-enabled, but the SKU `STANDARD_NC24RS_V3` is. The only difference in the names is that added 'R'. Aside from the InfiniBand capabilities, the specs between these two SKUs are largely the same &ndash; they have both 24 cores, 448 GB RAM, 4 NVIDIA Tesla V100 GPUS, etc.  (Caveat: the older-generation machine SKU `STANDARD_NC24R` is a notable exception to the rule that SKU names containing 'R' are InfiniBand-enabled. The SKU is RDMA-enabled, but it does not have SR-IOV hardware required for InfiniBand.)"
   ]
  },
  {
   "cell_type": "markdown",
   "id": "dcfa96a1",
   "metadata": {},
   "source": [
    "####  InfiniBand Experiment"
   ]
  },
  {
   "cell_type": "markdown",
   "id": "152b41dd",
   "metadata": {},
   "source": [
    "Let's do an experiment to see how InfiniBand affects the training time as we scale up the number of nodes."
   ]
  },
  {
   "cell_type": "markdown",
   "id": "c05024a3",
   "metadata": {},
   "source": [
    "Let's create two compute clusters: One `STANDARD_NC24RS_V3` and one `STANDARD_NC24S_V3`. As discussed above, these SKUs essentially only differ in whether or not they are InfiniBand-enabled. Also, note that these are both SKUs with later-generation hardware. You may observe better and more consistent performance on these SKUs than on SKUs with earlier-generation hardware."
   ]
  },
  {
   "cell_type": "code",
   "execution_count": null,
   "id": "0edfab86",
   "metadata": {},
   "outputs": [],
   "source": [
    "infiniband_cluster = create_compute_cluster(\n",
    "    name='nc24rsv3',\n",
    "    sku='STANDARD_NC24RS_V3',\n",
    "    workspace=workspace)\n",
    "\n",
    "standard_cluster = create_compute_cluster(\n",
    "    name='nc24sv3',\n",
    "    sku='STANDARD_NC24S_V3',\n",
    "    workspace=workspace)"
   ]
  },
  {
   "cell_type": "markdown",
   "id": "7d1a503e",
   "metadata": {},
   "source": [
    "We'll kick off several runs, each training the model on the whole dataset for one epoch:"
   ]
  },
  {
   "cell_type": "code",
   "execution_count": null,
   "id": "c2502dc9",
   "metadata": {},
   "outputs": [],
   "source": [
    "infiniband_run_4_nodes = launch_run(experiment=experiment, cluster=infiniband_cluster, node_count=4)\n",
    "infiniband_run_4_nodes.wait_for_completion()"
   ]
  },
  {
   "cell_type": "code",
   "execution_count": null,
   "id": "57ce75ac",
   "metadata": {},
   "outputs": [],
   "source": [
    "infiniband_run_2_nodes = launch_run(experiment=experiment, cluster=infiniband_cluster, node_count=2)\n",
    "infiniband_run_2_nodes.wait_for_completion()"
   ]
  },
  {
   "cell_type": "code",
   "execution_count": null,
   "id": "62724631",
   "metadata": {},
   "outputs": [],
   "source": [
    "infiniband_run_1_node = launch_run(experiment=experiment, cluster=infiniband_cluster, node_count=1)\n",
    "infiniband_run_1_node.wait_for_completion()"
   ]
  },
  {
   "cell_type": "code",
   "execution_count": null,
   "id": "52ccbba2",
   "metadata": {},
   "outputs": [],
   "source": [
    "standard_run_4_nodes = launch_run(experiment=experiment, cluster=standard_cluster, node_count=4)\n",
    "standard_run_4_nodes.wait_for_completion()"
   ]
  },
  {
   "cell_type": "code",
   "execution_count": null,
   "id": "0c2aa4ef",
   "metadata": {},
   "outputs": [],
   "source": [
    "standard_run_2_nodes = launch_run(experiment=experiment, cluster=standard_cluster, node_count=2)\n",
    "standard_run_2_nodes.wait_for_completion()"
   ]
  },
  {
   "cell_type": "code",
   "execution_count": null,
   "id": "10ccb95e",
   "metadata": {},
   "outputs": [],
   "source": [
    "standard_run_1_node = launch_run(experiment=experiment, cluster=standard_cluster, node_count=1)\n",
    "standard_run_1_node.wait_for_completion()"
   ]
  },
  {
   "cell_type": "markdown",
   "id": "08c26a42",
   "metadata": {},
   "source": [
    "Let's plot the real and ideal training times of the runs on InfiniBand-enabled cluster:"
   ]
  },
  {
   "cell_type": "code",
   "execution_count": 46,
   "id": "6c91ab64",
   "metadata": {},
   "outputs": [
    {
     "data": {
      "image/png": "[encoded data removed]",
      "text/plain": [
       "<Figure size 432x288 with 1 Axes>"
      ]
     },
     "metadata": {
      "needs_background": "light"
     },
     "output_type": "display_data"
    }
   ],
   "source": [
    "infiniband_run_4_nodes_run_time = infiniband_run_4_nodes.get_metrics(name='epoch_train_time')['epoch_train_time']\n",
    "infiniband_run_2_nodes_run_time = infiniband_run_2_nodes.get_metrics(name='epoch_train_time')['epoch_train_time']\n",
    "infiniband_run_1_node_run_time = infiniband_run_1_node.get_metrics(name='epoch_train_time')['epoch_train_time']\n",
    "\n",
    "num_machines = [1, 2, 4]\n",
    "real_training_times = [infiniband_run_1_node_run_time, infiniband_run_2_nodes_run_time, infiniband_run_4_nodes_run_time]\n",
    "ideal_training_times = [infiniband_run_1_node_run_time, infiniband_run_1_node_run_time / 2, infiniband_run_1_node_run_time / 4]\n",
    "plt.plot(num_machines, real_training_times, label='Real Scaling')\n",
    "plt.plot(num_machines, ideal_training_times, label='Ideal Scaling')\n",
    "plt.legend()\n",
    "plt.title('# of Machines vs Training Time')\n",
    "plt.xlabel('# of Machines')\n",
    "plt.ylabel('Training Time')\n",
    "plt.show()"
   ]
  },
  {
   "cell_type": "markdown",
   "id": "3ee3ba7e",
   "metadata": {},
   "source": [
    "Plot the same for the runs on the standard cluster:"
   ]
  },
  {
   "cell_type": "code",
   "execution_count": 48,
   "id": "0e840852",
   "metadata": {},
   "outputs": [
    {
     "data": {
      "image/png": "[encoded data removed]",
      "text/plain": [
       "<Figure size 432x288 with 1 Axes>"
      ]
     },
     "metadata": {
      "needs_background": "light"
     },
     "output_type": "display_data"
    }
   ],
   "source": [
    "standard_run_4_nodes_run_time = standard_run_4_nodes.get_metrics(name='epoch_train_time')['epoch_train_time']\n",
    "standard_run_2_nodes_run_time = standard_run_2_nodes.get_metrics(name='epoch_train_time')['epoch_train_time']\n",
    "standard_run_1_node_run_time = standard_run_1_node.get_metrics(name='epoch_train_time')['epoch_train_time']\n",
    "\n",
    "num_machines = [1, 2, 4]\n",
    "real_training_times = [standard_run_1_node_run_time, standard_run_2_nodes_run_time, standard_run_4_nodes_run_time]\n",
    "ideal_training_times = [standard_run_1_node_run_time, standard_run_1_node_run_time / 2, standard_run_1_node_run_time / 4]\n",
    "plt.plot(num_machines, real_training_times, label='Real Scaling')\n",
    "plt.plot(num_machines, ideal_training_times, label='Ideal Scaling')\n",
    "plt.legend()\n",
    "plt.title('# of Machines vs Training Time')\n",
    "plt.xlabel('# of Machines')\n",
    "plt.ylabel('Training Time')\n",
    "plt.show()"
   ]
  },
  {
   "cell_type": "markdown",
   "id": "66a76dd8",
   "metadata": {},
   "source": [
    "While InifiBand helps attain linear scaling, there are of course many other reasons you may get less-than-linear scale. Many of them are addressed in the [Additional Pointers](#Additional-Pointers) section near the end of this document."
   ]
  },
  {
   "cell_type": "markdown",
   "id": "fa307e36",
   "metadata": {},
   "source": [
    "#### Scaling the Learning Rate"
   ]
  },
  {
   "cell_type": "markdown",
   "id": "bf6b2c34",
   "metadata": {},
   "source": [
    "A quick note on maintaining model quality / accuracy as you scale up the number of training nodes: as you scale up the number of nodes, you may need to scale up the learning rate. In the training script for this notebook, we have\n",
    "\n",
    "```python\n",
    "SCALED_LEARNING_RATE = LEARNING_RATE * WORLD_SIZE\n",
    "```\n",
    "that scales the learning rate linearly with the number of the VMs. More details on scaling the learning rate / the reasoning behind it can be viewed in [this paper](https://arxiv.org/abs/1706.02677v1). There are many more resources and strategies for adjusting the learning rate as you scale available on the web."
   ]
  },
  {
   "cell_type": "markdown",
   "id": "ad980290",
   "metadata": {},
   "source": [
    "#### Accuracy Experiment\n",
    "\n",
    "Let's kick off a distributed run and a single-box run, and then sanity check that the training curves look similar. For the sake of speeding up the experiment a little, let's train on a subsample of the first 50k images (out of roughly ~ 118k images) in the train set."
   ]
  },
  {
   "cell_type": "code",
   "execution_count": null,
   "id": "bef5de8f",
   "metadata": {},
   "outputs": [],
   "source": [
    "run_with_4_nodes = launch_run(\n",
    "    experiment=experiment,\n",
    "    cluster=infiniband_cluster,\n",
    "    node_count=4,\n",
    "    num_epochs=5,\n",
    "    subsample_first_n_images=50000)\n",
    "\n",
    "run_with_4_nodes.wait_for_completion()"
   ]
  },
  {
   "cell_type": "code",
   "execution_count": null,
   "id": "60335698",
   "metadata": {},
   "outputs": [],
   "source": [
    "run_with_1_node = launch_run(\n",
    "    experiment=experiment,\n",
    "    cluster=standard_cluster,\n",
    "    node_count=1,\n",
    "    num_epochs=5,\n",
    "    subsample_first_n_images=50000)\n",
    "\n",
    "run_with_1_node.wait_for_completion()"
   ]
  },
  {
   "cell_type": "markdown",
   "id": "efa888a8",
   "metadata": {},
   "source": [
    "Plotting the validation accuracy after each epoch:"
   ]
  },
  {
   "cell_type": "code",
   "execution_count": 59,
   "id": "ba51743d",
   "metadata": {},
   "outputs": [
    {
     "data": {
      "image/png": "[encoded data removed]",
      "text/plain": [
       "<Figure size 432x288 with 1 Axes>"
      ]
     },
     "metadata": {
      "needs_background": "light"
     },
     "output_type": "display_data"
    }
   ],
   "source": [
    "validation_accuracies_with_4_nodes = run_with_4_nodes.get_metrics(name='validation_accuracy')['validation_accuracy']\n",
    "validation_accuracies_with_1_node = run_with_1_node.get_metrics(name='validation_accuracy')['validation_accuracy']\n",
    "\n",
    "epochs = range(5)\n",
    "plt.plot(epochs, validation_accuracies_with_4_nodes, label='4 Nodes')\n",
    "plt.plot(epochs, validation_accuracies_with_1_node, label='1 Node')\n",
    "plt.legend()\n",
    "plt.title('# of Machines vs Validation Accuracy')\n",
    "plt.xlabel('Epoch')\n",
    "plt.ylabel('Validation Accuracy')\n",
    "plt.show()"
   ]
  },
  {
   "cell_type": "markdown",
   "id": "7050bf38",
   "metadata": {},
   "source": [
    "## Low-Priority Compute"
   ]
  },
  {
   "cell_type": "markdown",
   "id": "45664363",
   "metadata": {},
   "source": [
    "Using [low-priority nodes](https://docs.microsoft.com/en-us/azure/machine-learning/how-to-manage-optimize-cost#low-pri-vm) in a compute cluster can pose additional challenges. In this section, we'll focus on describing and mitigating one such challenge.\n",
    "\n",
    "When a job is using low-priority nodes that get pre-empted, that job of course stops running, and it waits for compute to become available again. Once low-priority nodes become available, the run restarts \"from scratch.\" In other words, previous state on the compute is lost, and the Python script that was submitted to be executed by the run is re-invoked fresh on all compute nodes. This means that, without special handling, every time a DNN training run is pre-empted and then restarts, the run will start the training from epoch 0 again. For this reason, we need some special handling in the script to save state between pre-emptions, so previous work can be reused after restarts."
   ]
  },
  {
   "cell_type": "markdown",
   "id": "d0fde802",
   "metadata": {},
   "source": [
    "We handle this is in the training script by checkpointing the latest model after each epoch:\n",
    "\n",
    "```python\n",
    "for epoch in range(...):\n",
    "    ...\n",
    "    train_epoch(...)\n",
    "\n",
    "    if RANK == 0:\n",
    "        save_checkpoint(model, optimizer, epoch)\n",
    "    ...\n",
    "```\n",
    "Note we only need to save the model on a single worker (arbitrarily selected worker with rank 0).\n",
    "\n",
    "Save checkpoint is implemented as:\n",
    "```python\n",
    "def save_checkpoint(model, optimizer, epoch):\n",
    "    torch.save({\n",
    "        'epoch': epoch,\n",
    "        'model_state_dict': model.state_dict(),\n",
    "        'optimizer_state_dict': optimizer.state_dict(),\n",
    "    }, CHECKPOINT_MODEL_PATH)\n",
    "    ...\n",
    "```\n",
    "\n",
    "This code saves a copy of of the relevant information to `CHECKPOINT_MODEL_PATH`. This info includes the latest model weights and optimizer state, as long as the latest epoch that has been trained. Saving to `CHECKPOINT_MODEL_PATH` triggers an automatic upload of the model to blob storage. This is because when we launched the script run above, we passed an `OutputFileDatasetConfig`:\n",
    "\n",
    "```python\n",
    "output_dataset_config = OutputFileDatasetConfig('model_checkpoints',\n",
    "                                                destination=...,\n",
    "                                                source='model_checkpoints/')\n",
    "...\n",
    "ScriptRunConfig(...,\n",
    "                script='training_script_classification.py',\n",
    "                arguments=[output_dataset_config], compute_target=cluster,\n",
    "                ...,\n",
    "                distributed_job_config=distributed_config)\n",
    "```\n",
    "\n",
    "Under the hood, this means that whenever a file is written to the `model_checkpoints` directory on the compute, it will automatically be uploaded to the `destination` parameter in the blob. This also means that any file available in the blob storage directory is also available to compute. In other words, the blob folder represented by `destination` is mounted on disk to the `model_checkpoints` directory. Also, note that if the `destination` parameter is blank, the default destination in blob storage is `/dataset/{run_id}/model_checkpoints/`. See the documentation on [OutputFileDatasetConfig](https://docs.microsoft.com/en-us/python/api/azureml-core/azureml.data.output_dataset_config.outputfiledatasetconfig?view=azure-ml-py) for more info.\n",
    "\n",
    "Finally, at the start of our training script, we have:\n",
    "\n",
    "```python\n",
    "if checkpoint_file_exists:\n",
    "    ...\n",
    "    model, optimizer, starting_epoch = load_checkpoint()\n",
    "    starting_epoch += 1\n",
    "else:\n",
    "    model = init_model()\n",
    "    optimizer = init_optimizer(model)\n",
    "    starting_epoch = 0\n",
    "```\n",
    "\n",
    "This means that, when the script starts, by default, it will check to see if a checkpoint already exists in storage. If a saved checkpoint exists, the script will load the saved state, and continue from there. Otherwise, the script will start training a new model from scratch."
   ]
  },
  {
   "cell_type": "markdown",
   "id": "7ee76bcc",
   "metadata": {},
   "source": [
    "#### Experiment"
   ]
  },
  {
   "cell_type": "markdown",
   "id": "a97cbe40",
   "metadata": {},
   "source": [
    "Let's try an experiment. Perhaps unlike linear scalability, pre-emption isn't something that we can demonstrate precisely, because pre-emption of a low pri node can't be forced. (Azure forces or doesn't force pre-emption based on data-center-wide availability of the hardware SKU and other factors.) However, perhaps we can simulate pre-emption. We'll start a few runs."
   ]
  },
  {
   "cell_type": "markdown",
   "id": "e0fda1cd",
   "metadata": {},
   "source": [
    "First, do a run for only 2 nodes on high-priority compute."
   ]
  },
  {
   "cell_type": "code",
   "execution_count": null,
   "id": "c0803286",
   "metadata": {},
   "outputs": [],
   "source": [
    "nc6sv3_cluster = create_compute_cluster(\n",
    "    name='nc6sv3',\n",
    "    sku='Standard_NC6S_V3',\n",
    "    workspace=workspace\n",
    ")\n",
    "\n",
    "run1 = launch_run(\n",
    "    experiment=experiment,\n",
    "    cluster=nc6sv3_cluster,\n",
    "    subsample_first_n_images=5000,\n",
    "    num_epochs=2)\n",
    "\n",
    "run1.wait_for_completion()"
   ]
  },
  {
   "cell_type": "markdown",
   "id": "67e372b1",
   "metadata": {},
   "source": [
    "Checking the relevant metrics:"
   ]
  },
  {
   "cell_type": "code",
   "execution_count": 63,
   "id": "899f6342",
   "metadata": {},
   "outputs": [
    {
     "data": {
      "text/plain": [
       "{'training_epoch': [0, 1]}"
      ]
     },
     "execution_count": 63,
     "metadata": {},
     "output_type": "execute_result"
    }
   ],
   "source": [
    "run1.get_metrics(name='training_epoch')"
   ]
  },
  {
   "cell_type": "markdown",
   "id": "0f20dc6f",
   "metadata": {},
   "source": [
    "We can see that the run only trained epochs 0 and 1."
   ]
  },
  {
   "cell_type": "markdown",
   "id": "29c9c7d6",
   "metadata": {},
   "source": [
    "During the course of its run, the run should have saved a checkpoint in the `/dataset/{run1.id}/model_checkpoints/` directory in storage. So, with our script, if we started another run (say run 2), but we overrode the checkpoint path in storage for this new run from its default of `/dataset/{run2.id}/model_checkpoints/` to `/dataset/{run1.id}/model_checkpoints/`, run2 should continue training the model from where the first run left off. Let's see if that's the case."
   ]
  },
  {
   "cell_type": "markdown",
   "id": "069aeb93",
   "metadata": {},
   "source": [
    "Kicking off run2:"
   ]
  },
  {
   "cell_type": "code",
   "execution_count": null,
   "id": "1318f43d",
   "metadata": {},
   "outputs": [],
   "source": [
    "run2 = launch_run(\n",
    "    experiment=experiment,\n",
    "    cluster=nc6sv3_cluster,\n",
    "    subsample_first_n_images=5000,\n",
    "    num_epochs=4,\n",
    "    output_dataset_storage_path=f'/dataset/{run1.id}/model_checkpoints/')\n",
    "\n",
    "run2.wait_for_completion()"
   ]
  },
  {
   "cell_type": "markdown",
   "id": "45ee5450",
   "metadata": {},
   "source": [
    "Checking the metrics:"
   ]
  },
  {
   "cell_type": "code",
   "execution_count": 67,
   "id": "efd630af",
   "metadata": {},
   "outputs": [
    {
     "data": {
      "text/plain": [
       "{'training_epoch': [2, 3]}"
      ]
     },
     "execution_count": 67,
     "metadata": {},
     "output_type": "execute_result"
    }
   ],
   "source": [
    "run2.get_metrics(name='training_epoch')"
   ]
  },
  {
   "cell_type": "markdown",
   "id": "9881bd78",
   "metadata": {},
   "source": [
    "We see that this is indeed the case. Only the second 2 epochs were trained."
   ]
  },
  {
   "cell_type": "markdown",
   "id": "dc8255a6",
   "metadata": {},
   "source": [
    "#### Handling Metrics\n",
    "\n",
    "When a pre-empted job is resumed, metrics from previous runs are still present. This is something to keep in mind.\n",
    "\n",
    "You probably also want to ensure all metrics are flushed (a.k.a. sent from local compute to the metrics servers) around the same time that the model checkpoint is saved. This reduces the likelihood of a race condition where the checkpoint is saved and the run is pre-empted, but recent metrics for the run haven't yet been flushed and hence are lost.\n",
    "\n",
    "In the training script, you can see that we flush metrics right before saving the checkpoint:\n",
    "\n",
    "```python\n",
    "run.flush()\n",
    "save_checkpoint(model, optimizer, epoch)\n",
    "```"
   ]
  },
  {
   "cell_type": "markdown",
   "id": "61897268",
   "metadata": {},
   "source": [
    "## Data Larger Than Disk"
   ]
  },
  {
   "cell_type": "markdown",
   "id": "1dfcd93f",
   "metadata": {},
   "source": [
    "This section aims to explore how to train on data that is too large to fit on disk. Often times, for image workflows, the images in a dataset are all downloaded to disk up front. Then during training, images are loaded from disk into memory each epoch.\n",
    "\n",
    "When the data is too large to be downloaded to disk, one possible way to handle this is to stream images from blob storage into memory each epoch."
   ]
  },
  {
   "cell_type": "markdown",
   "id": "87bf5711",
   "metadata": {},
   "source": [
    "#### Experiment\n",
    "\n",
    "Let's kick off two runs: one that downloads all images to disk up front, and one that streams the images from storage during training."
   ]
  },
  {
   "cell_type": "code",
   "execution_count": null,
   "id": "6eebdf34",
   "metadata": {},
   "outputs": [],
   "source": [
    "stream_images_run = launch_run(\n",
    "    experiment=experiment,\n",
    "    cluster=nc6sv3_cluster,\n",
    "    download_images=False,\n",
    "    subsample_first_n_images=10000)\n",
    "\n",
    "stream_images_run.wait_for_completion()"
   ]
  },
  {
   "cell_type": "code",
   "execution_count": null,
   "id": "d5610abf",
   "metadata": {},
   "outputs": [],
   "source": [
    "download_images_run = launch_run(\n",
    "    experiment=experiment, \n",
    "    cluster=nc6sv3_cluster, \n",
    "    download_images=True,\n",
    "    subsample_first_n_images=10000)\n",
    "\n",
    "download_images_run.wait_for_completion()"
   ]
  },
  {
   "cell_type": "markdown",
   "id": "10de26cf",
   "metadata": {},
   "source": [
    "Note the `download_images` parameter above. By default, this parameter is `False`. This means that all runs kicked off by this notebook previously have been streaming images from storage.\n",
    "\n",
    "Let's briefly discuss how `download_images` is treated in the training script. First, if `download_data` is `True`, the images are all downloaded up front.\n",
    "\n",
    "```python\n",
    "if args.download_images:\n",
    "    ...\n",
    "    dataset.download('image_url', TRAIN_IMAGE_DOWNLOAD_DIR, overwrite=True)\n",
    "    valid_dataset.download('image_url', VALID_IMAGE_DOWNLOAD_DIR, overwrite=True)\n",
    "```\n",
    "\n",
    "Then during training, images are either loaded from disk or from storage:\n",
    "\n",
    "```python\n",
    "class Dataset(torch.utils.data.Dataset):\n",
    "\n",
    "    ...\n",
    "    \n",
    "    def __getitem__(self, index):        \n",
    "        if self._download_images:\n",
    "            with open(f\"{self._images_dir}/...\", 'rb') as f:\n",
    "                image_bytes = f.read()\n",
    "        else:\n",
    "            blob_name = str(...)\n",
    "            ...\n",
    "            stream = blob_client.download_blob()\n",
    "            image_bytes = stream.readall()\n",
    "\n",
    "```"
   ]
  },
  {
   "cell_type": "markdown",
   "id": "ed2e4255",
   "metadata": {},
   "source": [
    "Plotting the training time for both runs:"
   ]
  },
  {
   "cell_type": "code",
   "execution_count": 71,
   "id": "389f484b",
   "metadata": {},
   "outputs": [
    {
     "data": {
      "image/png": "[encoded data removed]",
      "text/plain": [
       "<Figure size 432x288 with 1 Axes>"
      ]
     },
     "metadata": {
      "needs_background": "light"
     },
     "output_type": "display_data"
    }
   ],
   "source": [
    "stream_images_epoch_train_time = stream_images_run.get_metrics(name='epoch_train_time')['epoch_train_time']\n",
    "download_images_run_epoch_train_time = download_images_run.get_metrics(name='epoch_train_time')['epoch_train_time']\n",
    "\n",
    "plt.bar(['Downloading Images', 'Streaming Images'], [download_images_run_epoch_train_time, stream_images_epoch_train_time])\n",
    "plt.title('Training Time')\n",
    "plt.xlabel('Run Type')\n",
    "plt.ylabel('Training Time (seconds)')\n",
    "plt.show()"
   ]
  },
  {
   "cell_type": "markdown",
   "id": "0132b847",
   "metadata": {},
   "source": [
    "Training time in both runs should be roughly the same."
   ]
  },
  {
   "cell_type": "markdown",
   "id": "abbaf5cc",
   "metadata": {},
   "source": [
    "#### Caveats\n",
    "\n",
    "With this approach, it is strongly recommended to make sure that the storage account you're streaming the images from is in the same data center as the compute. Otherwise, both [bandwidth costs](https://azure.microsoft.com/en-us/pricing/details/bandwidth/) and network latency may become noticeable.\n",
    "\n",
    "Also, downloading and streaming may only be similar in speed in scenarios where GPU utilization is high. When GPU is the bottleneck in the overall training training run, the extra bit of latency and CPU incurred in fetching the images from storage instead of disk may be small enough not to impact overall training time. There are other scenarios, however, where CPU is the bottleneck. This may be the case for jobs that train a small model on newer GPUs. One question that comes to mind is, for scenarios that train small models, will very large data (larger than can fit on disk) be needed? If not, the data can be downloaded. If so, in workflows where CPU utilization hovers near 100%, the streaming approach will likely increase total training time. In one such workflow, it was observed that total training time increased by ~ 30%. Fetching blobs from storage can require additional CPU in workflows that are already CPU-constrained. One thing to note is that, in many image workflows, most of the CPU time can be spent on image decoding. One idea to speed up such workflows is leveraging the GPU to decode images. NVIDIA has written the [NVIDIA DALI](https://docs.nvidia.com/deeplearning/dali/user-guide/docs/) library for batch GPU image decoding that may be useful in these cases."
   ]
  },
  {
   "cell_type": "markdown",
   "id": "81b1fe74",
   "metadata": {},
   "source": [
    "## Additional Pointers"
   ]
  },
  {
   "cell_type": "markdown",
   "id": "4a757efa",
   "metadata": {},
   "source": [
    "Below are some additional pointers for training on larger data."
   ]
  },
  {
   "cell_type": "markdown",
   "id": "c3577ce3",
   "metadata": {},
   "source": [
    "#### OpenCV"
   ]
  },
  {
   "cell_type": "markdown",
   "id": "27f8da7d",
   "metadata": {},
   "source": [
    "If using OpenCV for image decoding, it's important to limit the number of parallel threads the library can use. In the training script, we call\n",
    "```python\n",
    "cv2.setNumThreads(0)\n",
    "```\n",
    "Without limiting the degree of parallelism, when multiple training processes are kicked off on the same node, there may be a library issue that drives CPU utilization to hover near 100% and increases overall training time significantly."
   ]
  },
  {
   "cell_type": "markdown",
   "id": "3128f93e",
   "metadata": {},
   "source": [
    "#### Use the Latest Azure Storage SDK"
   ]
  },
  {
   "cell_type": "markdown",
   "id": "9ae8bab4",
   "metadata": {},
   "source": [
    "When you call datastore.blob_service,"
   ]
  },
  {
   "cell_type": "code",
   "execution_count": 72,
   "id": "42a0aee9",
   "metadata": {},
   "outputs": [
    {
     "data": {
      "text/plain": [
       "azureml._vendor.azure_storage.blob.blockblobservice.BlockBlobService"
      ]
     },
     "execution_count": 72,
     "metadata": {},
     "output_type": "execute_result"
    }
   ],
   "source": [
    "type(datastore.blob_service)"
   ]
  },
  {
   "cell_type": "markdown",
   "id": "3e2cb995",
   "metadata": {},
   "source": [
    "an object of type `azureml._vendor.azure_storage.blob.blockblobservice.BlockBlobService` is returned. This a vendored version of a legacy API of the Azure storage SDK. This may cause deadlocks and other performance problems. For that reason, in the training script, we use the latest Azure Storage SDK:\n",
    "\n",
    "```python\n",
    "from azure.storage.blob import BlobServiceClient\n",
    "blob_service_client = BlobServiceClient(\n",
    "            account_url=datastore.blob_service.primary_endpoint,\n",
    "            credential=datastore.account_key or datastore.sas_token)\n",
    "```"
   ]
  },
  {
   "cell_type": "markdown",
   "id": "c0591f77",
   "metadata": {},
   "source": [
    "#### Custom Dockerfile to Use Latest Libraries\n",
    "\n",
    "You can see that we're using our own Dockerfile to kick off the training script. This is because, right now, the existing default base images use older versions of some libraries (MPI, UCX) that can result in segmentation faults during distributed training. The referenced Dockerfile uses upgraded versions of these libraries."
   ]
  },
  {
   "cell_type": "markdown",
   "id": "3cdfafe3",
   "metadata": {},
   "source": [
    "#### Number of PyTorch Data Loader Workers\n",
    "\n",
    "We recommend starting one process for each GPU on the machine. In the script runs launched by this notebook, the following aims to do this:\n",
    "\n",
    "```python\n",
    "PyTorchConfiguration(process_count=num_gpus * node_count, node_count=node_count)\n",
    "```\n",
    "\n",
    "Within each process, limit the number of PyTorch data loader workers:\n",
    "\n",
    "```python\n",
    "num_workers = os.cpu_count() // LOCAL_SIZE\n",
    "train_data_loader = DataLoader(train_dataset, ..., num_workers=num_workers, ...)\n",
    "\n",
    "```\n",
    "\n",
    "This ensures that the total number of PyTorch data loader workers is equal to the total number of CPUs on the machine. This both ensures good CPU utilization if required and also limits the total number of batches prefetched into memory."
   ]
  },
  {
   "cell_type": "markdown",
   "id": "25b70a06",
   "metadata": {},
   "source": [
    "#### Can an input dataset be used instead of streaming images in Python?"
   ]
  },
  {
   "cell_type": "markdown",
   "id": "2d3c64f2",
   "metadata": {},
   "source": [
    "In the section on low priority compute, you'll recall that we mounted a directory in blob storage to a directory on local compute. If this is possible, could we also mount the input dataset (that lives in blob storage) to a directory on disk and then access the training images through the file system API? In some experiments, it was observed that this approach may be slower than streaming images directly in Python. Caveat: the investigation of the root cause in these experiments is ongoing. This is not an official result, but rather just a comment aimed at potentially saving you time."
   ]
  },
  {
   "cell_type": "markdown",
   "id": "07b43bf2",
   "metadata": {},
   "source": [
    "#### Logging Metrics and Uploading Files From a Single Node"
   ]
  },
  {
   "cell_type": "markdown",
   "id": "6c08b839",
   "metadata": {},
   "source": [
    "You may want to log metrics and upload files only from a single node. This reduces metrics noise when looking at dashboards and avoids unnecessary uploads to storage. Re: metrics noise, as an example, let's consider the metric `validation_accuracy` logged after each epoch in the training script. Let's say the accuracy after the first two epochs are 85% and 90%. If the metric is logged from 2 nodes, the result of `run.get_metrics()` will contain `[85, 85, 90, 90]`. If the metrics are logged from a single node, the result of the same call will instead contain `[85, 90]`. Similar repetitions will appear visually on charts and dashboards in the portal."
   ]
  }
 ],
 "metadata": {
  "kernelspec": {
   "display_name": "Python [conda env:dev] *",
   "language": "python",
   "name": "conda-env-dev-py"
  },
  "language_info": {
   "codemirror_mode": {
    "name": "ipython",
    "version": 3
   },
   "file_extension": ".py",
   "mimetype": "text/x-python",
   "name": "python",
   "nbconvert_exporter": "python",
   "pygments_lexer": "ipython3",
   "version": "3.7.11"
  }
 },
 "nbformat": 4,
 "nbformat_minor": 5
}
